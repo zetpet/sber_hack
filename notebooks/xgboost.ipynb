{
  "cells": [
    {
      "cell_type": "code",
      "execution_count": null,
      "metadata": {
        "colab": {
          "base_uri": "https://localhost:8080/"
        },
        "id": "HT7LXLpP6p0U",
        "outputId": "c7c77a17-3a1d-4a81-e362-b1a0a6f21771"
      },
      "outputs": [
        {
          "name": "stdout",
          "output_type": "stream",
          "text": [
            "Downloading...\n",
            "From: https://drive.google.com/uc?id=1fzd8TBUABO0ZE-waTwehJoSoMP2QPa5R\n",
            "To: /content/transactions.csv\n",
            "100% 288M/288M [00:01<00:00, 154MB/s]\n",
            "Downloading...\n",
            "From: https://drive.google.com/uc?id=1VSDBHZFiv53oCcxfj9UCewZNok9JYxG-\n",
            "To: /content/test_final.csv\n",
            "100% 2.97M/2.97M [00:00<00:00, 101MB/s]\n",
            "Downloading...\n",
            "From: https://drive.google.com/uc?id=115Ja6JBapEAcpdaCkWDXPlXb27B9MiOa\n",
            "To: /content/train_final.csv\n",
            "100% 26.6M/26.6M [00:00<00:00, 81.6MB/s]\n"
          ]
        }
      ],
      "source": [
        "!gdown 1fzd8TBUABO0ZE-waTwehJoSoMP2QPa5R\n",
        "!gdown 1VSDBHZFiv53oCcxfj9UCewZNok9JYxG-\n",
        "!gdown 115Ja6JBapEAcpdaCkWDXPlXb27B9MiOa"
      ]
    },
    {
      "cell_type": "code",
      "execution_count": null,
      "metadata": {
        "colab": {
          "base_uri": "https://localhost:8080/"
        },
        "id": "xyuL7gOFUEU3",
        "outputId": "4bd5e260-f98f-49b9-aa2a-6b440729a0b8"
      },
      "outputs": [
        {
          "name": "stdout",
          "output_type": "stream",
          "text": [
            "Downloading...\n",
            "From: https://drive.google.com/uc?id=1bWell8woNkspvlLmBSb7Q8p0C5Pin07y\n",
            "To: /content/data_test_real_final (3).csv\n",
            "\r  0% 0.00/4.38M [00:00<?, ?B/s]\r100% 4.38M/4.38M [00:00<00:00, 39.6MB/s]\r100% 4.38M/4.38M [00:00<00:00, 39.5MB/s]\n"
          ]
        }
      ],
      "source": [
        "!gdown 1bWell8woNkspvlLmBSb7Q8p0C5Pin07y"
      ]
    },
    {
      "cell_type": "code",
      "execution_count": null,
      "metadata": {
        "colab": {
          "base_uri": "https://localhost:8080/",
          "height": 17
        },
        "id": "Yb_lVtwF93KT",
        "outputId": "0e4a86a0-bca7-4c28-a28c-b4622f266a8a"
      },
      "outputs": [
        {
          "data": {
            "application/javascript": "\n    async function download(id, filename, size) {\n      if (!google.colab.kernel.accessAllowed) {\n        return;\n      }\n      const div = document.createElement('div');\n      const label = document.createElement('label');\n      label.textContent = `Downloading \"${filename}\": `;\n      div.appendChild(label);\n      const progress = document.createElement('progress');\n      progress.max = size;\n      div.appendChild(progress);\n      document.body.appendChild(div);\n\n      const buffers = [];\n      let downloaded = 0;\n\n      const channel = await google.colab.kernel.comms.open(id);\n      // Send a message to notify the kernel that we're ready.\n      channel.send({})\n\n      for await (const message of channel.messages) {\n        // Send a message to notify the kernel that we're ready.\n        channel.send({})\n        if (message.buffers) {\n          for (const buffer of message.buffers) {\n            buffers.push(buffer);\n            downloaded += buffer.byteLength;\n            progress.value = downloaded;\n          }\n        }\n      }\n      const blob = new Blob(buffers, {type: 'application/binary'});\n      const a = document.createElement('a');\n      a.href = window.URL.createObjectURL(blob);\n      a.download = filename;\n      div.appendChild(a);\n      a.click();\n      div.remove();\n    }\n  ",
            "text/plain": [
              "<IPython.core.display.Javascript object>"
            ]
          },
          "metadata": {},
          "output_type": "display_data"
        },
        {
          "data": {
            "application/javascript": "download(\"download_7ca56ba5-53f8-4a48-991b-57288b0208c9\", \"test_final.csv\", 2965533)",
            "text/plain": [
              "<IPython.core.display.Javascript object>"
            ]
          },
          "metadata": {},
          "output_type": "display_data"
        }
      ],
      "source": [
        "from google.colab import files\n",
        "files.download('test_final.csv')"
      ]
    },
    {
      "cell_type": "code",
      "execution_count": null,
      "metadata": {
        "colab": {
          "base_uri": "https://localhost:8080/"
        },
        "id": "2rlGlWRX5dVw",
        "outputId": "915f6bf6-cae4-4acc-8ac4-7e19a726b968"
      },
      "outputs": [
        {
          "name": "stdout",
          "output_type": "stream",
          "text": [
            "Requirement already satisfied: xgboost in /usr/local/lib/python3.10/dist-packages (2.0.2)\n",
            "Requirement already satisfied: numpy in /usr/local/lib/python3.10/dist-packages (from xgboost) (1.23.5)\n",
            "Requirement already satisfied: scipy in /usr/local/lib/python3.10/dist-packages (from xgboost) (1.11.3)\n"
          ]
        }
      ],
      "source": [
        "!pip install xgboost"
      ]
    },
    {
      "cell_type": "code",
      "execution_count": null,
      "metadata": {
        "colab": {
          "base_uri": "https://localhost:8080/"
        },
        "id": "Jzkpbqwp5dVy",
        "outputId": "bc29d0db-66a2-4a22-b76c-26adf362e7f4"
      },
      "outputs": [
        {
          "name": "stdout",
          "output_type": "stream",
          "text": [
            "Requirement already satisfied: joblib in /usr/local/lib/python3.10/dist-packages (1.3.2)\n"
          ]
        }
      ],
      "source": [
        "!pip install joblib"
      ]
    },
    {
      "cell_type": "code",
      "execution_count": null,
      "metadata": {
        "colab": {
          "base_uri": "https://localhost:8080/"
        },
        "id": "03fAYv_R5ubf",
        "outputId": "26813a9d-1203-4108-9f72-58556741e3e5"
      },
      "outputs": [
        {
          "data": {
            "text/plain": [
              "Index(['client_id', '1711_negative_transactionsmax',\n",
              "       '1711_negative_transactionsmedian', '1711_negative_transactionsmin',\n",
              "       '1711_positive_transactionsmax', '1711_positive_transactionsmedian',\n",
              "       '1711_positive_transactionsmin', '1731_negative_transactionsmax',\n",
              "       '1731_negative_transactionsmedian', '1731_negative_transactionsmin',\n",
              "       ...\n",
              "       '9311_positive_transactionscount', '9311_positive_transactionssum',\n",
              "       '9399_negative_transactionscount', '9399_negative_transactionssum',\n",
              "       '9399_positive_transactionscount', '9399_positive_transactionssum',\n",
              "       '9402_negative_transactionscount', '9402_negative_transactionssum',\n",
              "       '9402_positive_transactionscount', '9402_positive_transactionssum'],\n",
              "      dtype='object', length=1886)"
            ]
          },
          "execution_count": 11,
          "metadata": {},
          "output_type": "execute_result"
        }
      ],
      "source": []
    },
    {
      "cell_type": "code",
      "execution_count": null,
      "metadata": {
        "ExecuteTime": {
          "end_time": "2019-03-05T17:34:52.054851Z",
          "start_time": "2019-03-05T17:34:51.515762Z"
        },
        "colab": {
          "base_uri": "https://localhost:8080/"
        },
        "id": "pWRvefLR5dVy",
        "outputId": "81340fd6-99b3-4b31-c800-49c4b343993b"
      },
      "outputs": [
        {
          "name": "stderr",
          "output_type": "stream",
          "text": [
            "<ipython-input-5-dd84166dfa05>:12: TqdmDeprecationWarning: This function will be removed in tqdm==5.0.0\n",
            "Please use `tqdm.notebook.*` instead of `tqdm._tqdm_notebook.*`\n",
            "  from tqdm._tqdm_notebook import tqdm_notebook\n"
          ]
        }
      ],
      "source": [
        "import pandas as pd\n",
        "import numpy as np\n",
        "import xgboost as xgb\n",
        "import re\n",
        "import os\n",
        "import matplotlib.pyplot as plt\n",
        "from sklearn.preprocessing import MinMaxScaler\n",
        "from sklearn.model_selection import train_test_split\n",
        "\n",
        "import joblib\n",
        "\n",
        "from tqdm._tqdm_notebook import tqdm_notebook"
      ]
    },
    {
      "cell_type": "code",
      "execution_count": null,
      "metadata": {
        "id": "ZEo_Av8S5dVz"
      },
      "outputs": [],
      "source": [
        "PATH_DATA = './'\n",
        "MODEL_PATH = \"model.pkl\""
      ]
    },
    {
      "cell_type": "code",
      "execution_count": null,
      "metadata": {
        "ExecuteTime": {
          "end_time": "2019-03-05T17:34:58.314241Z",
          "start_time": "2019-03-05T17:34:52.056205Z"
        },
        "id": "ggYPymD-5dVz"
      },
      "outputs": [],
      "source": [
        "# Считываем данные\n",
        "tr_mcc_codes = pd.read_csv(os.path.join(PATH_DATA, 'mcc_codes.csv'), sep=';', index_col='mcc_code')\n",
        "tr_types = pd.read_csv(os.path.join(PATH_DATA, 'trans_types.csv'), sep=';', index_col='trans_type')\n",
        "\n",
        "transactions = pd.read_csv(os.path.join(PATH_DATA, 'transactions.csv'), index_col='client_id')\n",
        "gender_train = pd.read_csv(os.path.join(PATH_DATA, 'train.csv'), index_col='client_id')\n",
        "gender_test = pd.read_csv(os.path.join(PATH_DATA, 'test.csv'), index_col='client_id')\n",
        "transactions_train = transactions.join(gender_train, how='inner')\n",
        "transactions_test = transactions.join(gender_test, how='inner')"
      ]
    },
    {
      "cell_type": "code",
      "execution_count": null,
      "metadata": {
        "ExecuteTime": {
          "end_time": "2019-03-05T17:34:58.354996Z",
          "start_time": "2019-03-05T17:34:58.315591Z"
        },
        "id": "JyFT5PxA5dV0"
      },
      "outputs": [],
      "source": [
        "# Функции, которыми можно пользоваться для построения классификатора,\n",
        "# оценки его результатов и построение прогноза для тестовой части пользователей\n",
        "\n",
        "# Cross-validation score (среднее значение метрики ROC AUC на тренировочных данных)\n",
        "def cv_score(params, train, y_true):\n",
        "    cv_res=xgb.cv(params, xgb.DMatrix(train, y_true),\n",
        "                  early_stopping_rounds=10, maximize=True,\n",
        "                  num_boost_round=10000, nfold=5, stratified=True)\n",
        "    index_argmax = cv_res['test-auc-mean'].argmax()\n",
        "    print('Cross-validation, ROC AUC: {:.3f}+-{:.3f}, Trees: {}'.format(cv_res.loc[index_argmax]['test-auc-mean'],\n",
        "                                                                        cv_res.loc[index_argmax]['test-auc-std'],\n",
        "                                                                        index_argmax))\n",
        "\n",
        "# Построение модели + возврат результатов классификации тестовых пользователей\n",
        "def fit_predict(params, num_trees, train, test, target):\n",
        "    params['learning_rate'] = params['eta']\n",
        "    clf = xgb.train(params, xgb.DMatrix(train.values, target, feature_names=list(train.columns)),\n",
        "                    num_boost_round=num_trees, maximize=True)\n",
        "    y_pred = clf.predict(xgb.DMatrix(test.values, feature_names=list(train.columns)))\n",
        "    submission = pd.DataFrame(index=test.index, data=y_pred, columns=['probability'])\n",
        "\n",
        "    joblib.dump(clf, MODEL_PATH)\n",
        "    return clf, submission\n",
        "\n",
        "# Отрисовка важности переменных. Важность переменной - количество разбиений выборки,\n",
        "# в которых участвует данная переменная. Чем больше - тем она, вероятно, лучше\n",
        "def draw_feature_importances(clf, top_k=10):\n",
        "    plt.figure(figsize=(10, 10))\n",
        "\n",
        "    importances = dict(sorted(clf.get_score().items(), key=lambda x: x[1])[-top_k:])\n",
        "    y_pos = np.arange(len(importances))\n",
        "\n",
        "    plt.barh(y_pos, list(importances.values()), align='center', color='green')\n",
        "    plt.yticks(y_pos, importances.keys(), fontsize=12)\n",
        "    plt.xticks(fontsize=12)\n",
        "    plt.xlabel('Feature importance', fontsize=15)\n",
        "    plt.title('Features importances, Sberbank Gender Prediction', fontsize=18)\n",
        "    plt.ylim(-0.5, len(importances) - 0.5)\n",
        "    plt.show()"
      ]
    },
    {
      "cell_type": "markdown",
      "metadata": {
        "id": "8T52JV2h5dV1"
      },
      "source": [
        "Так как код для оценки модели на тренировочных данных и её применения на тестовых данных уже дан, то мы будем работать над тем, чтобы создать переменные для улучшения результатов моделирования.\n",
        "\n",
        "<font color='red'><b>!!!</b></font> В рамках данного задания Вы можете делать всё, что угодно - использовать другие алгоритмы и/или их комбинации, подбирать гиперпараметры своих моделей, отбирать переменые, etc. Мы создали шаблон для простоты и для Вашего понимания верхнеуровневого процесса разработки модели, опустив при этом большое число деталей."
      ]
    },
    {
      "cell_type": "markdown",
      "metadata": {
        "id": "r44NJ6fQ5dV1"
      },
      "source": [
        "## Basic features\n",
        "Начнём с того, что сформируем базовые переменные по каждому пользователю. На этом этапе будем использовать стандартные агрегации, посчитанные на расходах и приходах клиента:\n",
        "- минимум\n",
        "- максимум\n",
        "- среднее\n",
        "- медиана\n",
        "- среднеквадратичное отклонение\n",
        "- количество\n",
        "\n",
        "Также параметры модели выберем стандартные, запишем их в словарь params, и будем использовать для дальнейшего построения модели (не забывайте, что с этим Вы можете тоже экспериментировать)."
      ]
    },
    {
      "cell_type": "code",
      "execution_count": null,
      "metadata": {
        "ExecuteTime": {
          "end_time": "2019-03-05T17:34:58.362104Z",
          "start_time": "2019-03-05T17:34:58.356308Z"
        },
        "id": "D9tltsyV5dV1"
      },
      "outputs": [],
      "source": [
        "params = {\n",
        "    'eta': 0.1,\n",
        "    'max_depth': 3,\n",
        "    'subsample': 0.8,\n",
        "    'colsample_bytree': 0.8,\n",
        "\n",
        "    'gamma': 0,\n",
        "    'lambda': 0,\n",
        "    'alpha': 0,\n",
        "    'min_child_weight': 0,\n",
        "\n",
        "    'eval_metric': 'auc',\n",
        "    'objective': 'binary:logistic' ,\n",
        "    'booster': 'gbtree',\n",
        "    'njobs': -1,\n",
        "    'tree_method': 'approx'\n",
        "}"
      ]
    },
    {
      "cell_type": "code",
      "execution_count": null,
      "metadata": {
        "ExecuteTime": {
          "end_time": "2019-03-05T17:35:57.677748Z",
          "start_time": "2019-03-05T17:35:45.921444Z"
        },
        "id": "hNFpKj725dV3",
        "tags": []
      },
      "outputs": [],
      "source": [
        "for df in [transactions_train, transactions_test]:\n",
        "    df['num_day'] = df['trans_time'].apply(lambda x: int(x.split(' ')[0]))\n",
        "    df['datetime'] = df['trans_time'].apply(lambda x: x.split(' ')[1])\n",
        "    df['hour'] = df['datetime'].apply(lambda x: int(x.split(':')[0]))\n",
        "    df['minute'] = df['datetime'].apply(lambda x: int(x.split(':')[1]))\n",
        "    df['second'] = df['datetime'].apply(lambda x: int(x.split(':')[2]))\n",
        "    df['day'] = df['trans_time'].str.split().apply(lambda x: int(x[0]) % 7)\n",
        "    df['hour'] = df['trans_time'].apply(lambda x: re.search(' \\d*', x).group(0)).astype(int)\n",
        "    df['night'] = ~df['hour'].between(6, 22).astype(int)"
      ]
    },
    {
      "cell_type": "code",
      "execution_count": null,
      "metadata": {
        "id": "QmT9ST5KbA53"
      },
      "outputs": [],
      "source": [
        "transactions_train['trans_type'] = transactions_train['trans_type'] + 10000\n",
        "transactions_test['trans_type'] = transactions_test['trans_type'] + 10000"
      ]
    },
    {
      "cell_type": "code",
      "execution_count": null,
      "metadata": {
        "ExecuteTime": {
          "end_time": "2019-03-05T17:35:57.687397Z",
          "start_time": "2019-03-05T17:35:57.678823Z"
        },
        "id": "HC8v_iDo5dV4",
        "tags": []
      },
      "outputs": [],
      "source": [
        "def features_creation_advanced(x):\n",
        "    features = []\n",
        "    features.append(pd.Series(x['day'].value_counts(normalize=True).add_prefix('day_')))\n",
        "    features.append(pd.Series(x['hour'].value_counts(normalize=True).add_prefix('hour_')))\n",
        "    features.append(pd.Series(x['night'].value_counts(normalize=True).add_prefix('night_')))\n",
        "\n",
        "    features.append(pd.Series(x[x['amount']>0]['amount'].agg(['min', 'max', 'mean', 'median', 'std', 'count'])\\\n",
        "                                                        .add_prefix('positive_transactions_')))\n",
        "    features.append(pd.Series(x[x['amount']<0]['amount'].agg(['min', 'max', 'mean', 'median', 'std', 'count'])\\\n",
        "                                                       .add_prefix('negative_transactions_')))\n",
        "\n",
        "\n",
        "    tmp_codes = transactions_train['mcc_code'].unique()\n",
        "    for code in tmp_codes:\n",
        "        features.append(pd.Series(x[(x['amount']>0) & (x['mcc_code']==code)]['amount'].agg(['min','max','median','sum','count']).add_prefix(f'{code}_positive_transactions_')))\n",
        "        features.append(pd.Series(x[(x['amount']<0) & (x['mcc_code']==code)]['amount'].agg(['min','max','median','sum','count']).add_prefix(f'{code}_negative_transactions_')))\n",
        "\n",
        "\n",
        "    # trans_codes = transactions_train['trans_type'].unique()\n",
        "    # for code in trans_codes:\n",
        "    #     features.append(pd.Series(x[(x['amount']>0) & (x['trans_type']==code)]['amount'].agg(['min','max','median','sum','count']).add_prefix(f'{code}_positive_transactions_')))\n",
        "    #     features.append(pd.Series(x[(x['amount']<0) & (x['trans_type']==code)]['amount'].agg(['min','max','median','sum','count']).add_prefix(f'{code}_negative_transactions_')))\n",
        "\n",
        "    features.append(pd.Series(x[x['amount'] < 0]['minute'].apply(lambda x: 1 if (x==0 or x==59) else 0).agg(['mean'])).add_prefix('minute_negative_transactrions_'))\n",
        "    features.append(pd.Series(x[x['amount'] < 0]['hour'].apply(lambda x: 1 if (x==0 or x==23)  else 0).agg(['mean'])).add_prefix('hour_negative_transactrions_'))\n",
        "\n",
        "    return pd.concat(features)"
      ]
    },
    {
      "cell_type": "code",
      "execution_count": null,
      "metadata": {
        "ExecuteTime": {
          "end_time": "2019-03-05T17:37:19.784321Z",
          "start_time": "2019-03-05T17:35:57.688448Z"
        },
        "colab": {
          "base_uri": "https://localhost:8080/",
          "height": 81,
          "referenced_widgets": [
            "bd747c1c369a40c5adf6d79c1c2c5b29",
            "6368d69d54284d399d1cac56a0d579b0",
            "181b4e1319824c83b87c4f468e61b48a",
            "eca7d6ff99544383b3ddabdfba23f323",
            "b46452b38a564561beda6a44ec2ee409",
            "8c8dddbc3a714e859dc7611d0f9ee358",
            "fbc9606135164724be9a264d03637f51",
            "5f028a83f9bb4608b41336d109745882",
            "f4a090cef880400bbcc42743b3f2f70c",
            "f8f9b02db48249ab9d6d5274f8aae957",
            "a16fb2d470674db6b48db687db83b280",
            "5302f1792cc5442580e160911bde861e",
            "418cd398021f4bb4b61b87a536308295",
            "f4b6b87a6e1949e1bf7c920c34960262",
            "d561035da5604d2d87cf15435686021e",
            "3f24d3f5a1644b64932a782451f6829f",
            "6d4bc802123547129175753a3a9216d4",
            "0a589286cc8d4155865e245cf65859d1",
            "3d4ee85920e446a3b68eb055eade99eb",
            "e530b802919f4193ad62f37ab960c5c2",
            "34e0d0f10f474bf3b564788b9599ab46",
            "d5cde1650b124f9e8be75d2ccf30f819"
          ]
        },
        "id": "jnE-tMeb5dV4",
        "outputId": "c03a90ca-e2a4-4ca3-8ac6-5efc33341a8e"
      },
      "outputs": [
        {
          "data": {
            "application/vnd.jupyter.widget-view+json": {
              "model_id": "bd747c1c369a40c5adf6d79c1c2c5b29",
              "version_major": 2,
              "version_minor": 0
            },
            "text/plain": [
              "Progress:   0%|          | 0/7446 [00:00<?, ?it/s]"
            ]
          },
          "metadata": {},
          "output_type": "display_data"
        },
        {
          "data": {
            "application/vnd.jupyter.widget-view+json": {
              "model_id": "5302f1792cc5442580e160911bde861e",
              "version_major": 2,
              "version_minor": 0
            },
            "text/plain": [
              "Progress:   0%|          | 0/829 [00:00<?, ?it/s]"
            ]
          },
          "metadata": {},
          "output_type": "display_data"
        }
      ],
      "source": [
        "tqdm_notebook.pandas(desc=\"Progress\")\n",
        "\n",
        "data_train = transactions_train.groupby('client_id')\\\n",
        "                               .progress_apply(features_creation_advanced)\n",
        "data_test = transactions_test.groupby('client_id')\\\n",
        "                             .progress_apply(features_creation_advanced)"
      ]
    },
    {
      "cell_type": "code",
      "execution_count": null,
      "metadata": {
        "id": "3gROGstZ-tEC"
      },
      "outputs": [],
      "source": [
        "data_train.to_csv('data_train_real_final.csv')\n",
        "data_test.to_csv('data_test_real_final.csv')"
      ]
    },
    {
      "cell_type": "code",
      "execution_count": null,
      "metadata": {
        "colab": {
          "base_uri": "https://localhost:8080/",
          "height": 17
        },
        "id": "0JBgeb9d_B7c",
        "outputId": "e8439290-492e-4940-9f4f-edae0f2aaf23"
      },
      "outputs": [
        {
          "data": {
            "application/javascript": "\n    async function download(id, filename, size) {\n      if (!google.colab.kernel.accessAllowed) {\n        return;\n      }\n      const div = document.createElement('div');\n      const label = document.createElement('label');\n      label.textContent = `Downloading \"${filename}\": `;\n      div.appendChild(label);\n      const progress = document.createElement('progress');\n      progress.max = size;\n      div.appendChild(progress);\n      document.body.appendChild(div);\n\n      const buffers = [];\n      let downloaded = 0;\n\n      const channel = await google.colab.kernel.comms.open(id);\n      // Send a message to notify the kernel that we're ready.\n      channel.send({})\n\n      for await (const message of channel.messages) {\n        // Send a message to notify the kernel that we're ready.\n        channel.send({})\n        if (message.buffers) {\n          for (const buffer of message.buffers) {\n            buffers.push(buffer);\n            downloaded += buffer.byteLength;\n            progress.value = downloaded;\n          }\n        }\n      }\n      const blob = new Blob(buffers, {type: 'application/binary'});\n      const a = document.createElement('a');\n      a.href = window.URL.createObjectURL(blob);\n      a.download = filename;\n      div.appendChild(a);\n      a.click();\n      div.remove();\n    }\n  ",
            "text/plain": [
              "<IPython.core.display.Javascript object>"
            ]
          },
          "metadata": {},
          "output_type": "display_data"
        },
        {
          "data": {
            "application/javascript": "download(\"download_21069a78-f446-401b-98fc-4b6b54b96a28\", \"data_train_real_final.csv\", 13278232)",
            "text/plain": [
              "<IPython.core.display.Javascript object>"
            ]
          },
          "metadata": {},
          "output_type": "display_data"
        },
        {
          "data": {
            "application/javascript": "\n    async function download(id, filename, size) {\n      if (!google.colab.kernel.accessAllowed) {\n        return;\n      }\n      const div = document.createElement('div');\n      const label = document.createElement('label');\n      label.textContent = `Downloading \"${filename}\": `;\n      div.appendChild(label);\n      const progress = document.createElement('progress');\n      progress.max = size;\n      div.appendChild(progress);\n      document.body.appendChild(div);\n\n      const buffers = [];\n      let downloaded = 0;\n\n      const channel = await google.colab.kernel.comms.open(id);\n      // Send a message to notify the kernel that we're ready.\n      channel.send({})\n\n      for await (const message of channel.messages) {\n        // Send a message to notify the kernel that we're ready.\n        channel.send({})\n        if (message.buffers) {\n          for (const buffer of message.buffers) {\n            buffers.push(buffer);\n            downloaded += buffer.byteLength;\n            progress.value = downloaded;\n          }\n        }\n      }\n      const blob = new Blob(buffers, {type: 'application/binary'});\n      const a = document.createElement('a');\n      a.href = window.URL.createObjectURL(blob);\n      a.download = filename;\n      div.appendChild(a);\n      a.click();\n      div.remove();\n    }\n  ",
            "text/plain": [
              "<IPython.core.display.Javascript object>"
            ]
          },
          "metadata": {},
          "output_type": "display_data"
        },
        {
          "data": {
            "application/javascript": "download(\"download_d636b548-61fb-4fcb-8494-f9e02ff86339\", \"data_test_real_final.csv\", 1491298)",
            "text/plain": [
              "<IPython.core.display.Javascript object>"
            ]
          },
          "metadata": {},
          "output_type": "display_data"
        }
      ],
      "source": [
        "from google.colab import files\n",
        "files.download('data_train_real_final.csv')\n",
        "files.download('data_test_real_final.csv')"
      ]
    },
    {
      "cell_type": "code",
      "execution_count": null,
      "metadata": {
        "colab": {
          "base_uri": "https://localhost:8080/"
        },
        "id": "DcJZpiCz4icR",
        "outputId": "ee954287-10bb-4d27-d902-a3643e9dce83"
      },
      "outputs": [
        {
          "name": "stderr",
          "output_type": "stream",
          "text": [
            "/usr/local/lib/python3.10/dist-packages/xgboost/core.py:160: UserWarning: [10:18:16] WARNING: /workspace/src/learner.cc:742: \n",
            "Parameters: { \"njobs\" } are not used.\n",
            "\n",
            "  warnings.warn(smsg, UserWarning)\n",
            "/usr/local/lib/python3.10/dist-packages/xgboost/core.py:160: UserWarning: [10:18:17] WARNING: /workspace/src/learner.cc:742: \n",
            "Parameters: { \"njobs\" } are not used.\n",
            "\n",
            "  warnings.warn(smsg, UserWarning)\n",
            "/usr/local/lib/python3.10/dist-packages/xgboost/core.py:160: UserWarning: [10:18:18] WARNING: /workspace/src/learner.cc:742: \n",
            "Parameters: { \"njobs\" } are not used.\n",
            "\n",
            "  warnings.warn(smsg, UserWarning)\n",
            "/usr/local/lib/python3.10/dist-packages/xgboost/core.py:160: UserWarning: [10:18:19] WARNING: /workspace/src/learner.cc:742: \n",
            "Parameters: { \"njobs\" } are not used.\n",
            "\n",
            "  warnings.warn(smsg, UserWarning)\n"
          ]
        },
        {
          "name": "stdout",
          "output_type": "stream",
          "text": [
            "Cross-validation, ROC AUC: 0.875+-0.005, Trees: 197\n"
          ]
        }
      ],
      "source": [
        "target = super_final_train.join(gender_train, how='inner')['gender']\n",
        "cv_score(params, super_final_train,target)"
      ]
    },
    {
      "cell_type": "code",
      "execution_count": null,
      "metadata": {
        "id": "DGNUqNDO9Jff"
      },
      "outputs": [],
      "source": [
        "train_final = pd.read_csv('train_final.csv', index_col='client_id')\n",
        "test_final = pd.read_csv('test_final.csv', index_col='client_id')"
      ]
    },
    {
      "cell_type": "code",
      "execution_count": null,
      "metadata": {
        "id": "V3ZoXOcTEfG_"
      },
      "outputs": [],
      "source": [
        "super_final_train = pd.concat([data_train,train_final], axis=1)\n",
        "super_final_test = pd.concat([data_test,test_final], axis=1)"
      ]
    },
    {
      "cell_type": "code",
      "execution_count": null,
      "metadata": {
        "id": "6qlxNomFNpUf"
      },
      "outputs": [],
      "source": [
        "super_final_train"
      ]
    },
    {
      "cell_type": "code",
      "execution_count": null,
      "metadata": {
        "id": "QSLA__HKJObN"
      },
      "outputs": [],
      "source": [
        "tmp = pd.read_csv('data_train_real_final.csv', index_col='client_id')"
      ]
    },
    {
      "cell_type": "code",
      "execution_count": null,
      "metadata": {
        "colab": {
          "base_uri": "https://localhost:8080/",
          "height": 475
        },
        "id": "5c1pW-PaJoGb",
        "outputId": "f17fa190-d493-49ce-d19b-306f7a855be8"
      },
      "outputs": [
        {
          "data": {
            "text/html": [
              "\n",
              "  <div id=\"df-173fca75-20f7-415e-9a71-5950db0cec58\" class=\"colab-df-container\">\n",
              "    <div>\n",
              "<style scoped>\n",
              "    .dataframe tbody tr th:only-of-type {\n",
              "        vertical-align: middle;\n",
              "    }\n",
              "\n",
              "    .dataframe tbody tr th {\n",
              "        vertical-align: top;\n",
              "    }\n",
              "\n",
              "    .dataframe thead th {\n",
              "        text-align: right;\n",
              "    }\n",
              "</style>\n",
              "<table border=\"1\" class=\"dataframe\">\n",
              "  <thead>\n",
              "    <tr style=\"text-align: right;\">\n",
              "      <th></th>\n",
              "      <th>12370.0_positive_transactions_min</th>\n",
              "      <th>12370.0_positive_transactions_max</th>\n",
              "      <th>12370.0_positive_transactions_median</th>\n",
              "      <th>12370.0_positive_transactions_sum</th>\n",
              "      <th>12370.0_positive_transactions_count</th>\n",
              "      <th>12370.0_negative_transactions_min</th>\n",
              "      <th>12370.0_negative_transactions_max</th>\n",
              "      <th>12370.0_negative_transactions_median</th>\n",
              "      <th>12370.0_negative_transactions_sum</th>\n",
              "      <th>12370.0_negative_transactions_count</th>\n",
              "      <th>...</th>\n",
              "      <th>9311_positive_transactionscount</th>\n",
              "      <th>9311_positive_transactionssum</th>\n",
              "      <th>9399_negative_transactionscount</th>\n",
              "      <th>9399_negative_transactionssum</th>\n",
              "      <th>9399_positive_transactionscount</th>\n",
              "      <th>9399_positive_transactionssum</th>\n",
              "      <th>9402_negative_transactionscount</th>\n",
              "      <th>9402_negative_transactionssum</th>\n",
              "      <th>9402_positive_transactionscount</th>\n",
              "      <th>9402_positive_transactionssum</th>\n",
              "    </tr>\n",
              "    <tr>\n",
              "      <th>client_id</th>\n",
              "      <th></th>\n",
              "      <th></th>\n",
              "      <th></th>\n",
              "      <th></th>\n",
              "      <th></th>\n",
              "      <th></th>\n",
              "      <th></th>\n",
              "      <th></th>\n",
              "      <th></th>\n",
              "      <th></th>\n",
              "      <th></th>\n",
              "      <th></th>\n",
              "      <th></th>\n",
              "      <th></th>\n",
              "      <th></th>\n",
              "      <th></th>\n",
              "      <th></th>\n",
              "      <th></th>\n",
              "      <th></th>\n",
              "      <th></th>\n",
              "      <th></th>\n",
              "    </tr>\n",
              "  </thead>\n",
              "  <tbody>\n",
              "    <tr>\n",
              "      <th>0002cf30347684df542e1a931f356875</th>\n",
              "      <td>NaN</td>\n",
              "      <td>NaN</td>\n",
              "      <td>NaN</td>\n",
              "      <td>0.0</td>\n",
              "      <td>0.0</td>\n",
              "      <td>-2170.07</td>\n",
              "      <td>-2170.07</td>\n",
              "      <td>-2170.070</td>\n",
              "      <td>-2170.07</td>\n",
              "      <td>1.0</td>\n",
              "      <td>...</td>\n",
              "      <td>NaN</td>\n",
              "      <td>NaN</td>\n",
              "      <td>NaN</td>\n",
              "      <td>NaN</td>\n",
              "      <td>NaN</td>\n",
              "      <td>NaN</td>\n",
              "      <td>NaN</td>\n",
              "      <td>NaN</td>\n",
              "      <td>NaN</td>\n",
              "      <td>NaN</td>\n",
              "    </tr>\n",
              "    <tr>\n",
              "      <th>0002f4661e0d4d2ae097d78552dad022</th>\n",
              "      <td>NaN</td>\n",
              "      <td>NaN</td>\n",
              "      <td>NaN</td>\n",
              "      <td>0.0</td>\n",
              "      <td>0.0</td>\n",
              "      <td>NaN</td>\n",
              "      <td>NaN</td>\n",
              "      <td>NaN</td>\n",
              "      <td>0.00</td>\n",
              "      <td>0.0</td>\n",
              "      <td>...</td>\n",
              "      <td>NaN</td>\n",
              "      <td>NaN</td>\n",
              "      <td>NaN</td>\n",
              "      <td>NaN</td>\n",
              "      <td>NaN</td>\n",
              "      <td>NaN</td>\n",
              "      <td>NaN</td>\n",
              "      <td>NaN</td>\n",
              "      <td>NaN</td>\n",
              "      <td>NaN</td>\n",
              "    </tr>\n",
              "    <tr>\n",
              "      <th>00081e0eca8ad94e493691f8f00099c6</th>\n",
              "      <td>NaN</td>\n",
              "      <td>NaN</td>\n",
              "      <td>NaN</td>\n",
              "      <td>0.0</td>\n",
              "      <td>0.0</td>\n",
              "      <td>NaN</td>\n",
              "      <td>NaN</td>\n",
              "      <td>NaN</td>\n",
              "      <td>0.00</td>\n",
              "      <td>0.0</td>\n",
              "      <td>...</td>\n",
              "      <td>NaN</td>\n",
              "      <td>NaN</td>\n",
              "      <td>NaN</td>\n",
              "      <td>NaN</td>\n",
              "      <td>NaN</td>\n",
              "      <td>NaN</td>\n",
              "      <td>NaN</td>\n",
              "      <td>NaN</td>\n",
              "      <td>NaN</td>\n",
              "      <td>NaN</td>\n",
              "    </tr>\n",
              "    <tr>\n",
              "      <th>0019bebcb5435df3103a5b0b52f5fc6b</th>\n",
              "      <td>NaN</td>\n",
              "      <td>NaN</td>\n",
              "      <td>NaN</td>\n",
              "      <td>0.0</td>\n",
              "      <td>0.0</td>\n",
              "      <td>-20246.83</td>\n",
              "      <td>-17.49</td>\n",
              "      <td>-578.445</td>\n",
              "      <td>-33292.07</td>\n",
              "      <td>20.0</td>\n",
              "      <td>...</td>\n",
              "      <td>NaN</td>\n",
              "      <td>NaN</td>\n",
              "      <td>NaN</td>\n",
              "      <td>NaN</td>\n",
              "      <td>NaN</td>\n",
              "      <td>NaN</td>\n",
              "      <td>NaN</td>\n",
              "      <td>NaN</td>\n",
              "      <td>NaN</td>\n",
              "      <td>NaN</td>\n",
              "    </tr>\n",
              "    <tr>\n",
              "      <th>001c8191ecac499718b33dc293a99e5b</th>\n",
              "      <td>NaN</td>\n",
              "      <td>NaN</td>\n",
              "      <td>NaN</td>\n",
              "      <td>0.0</td>\n",
              "      <td>0.0</td>\n",
              "      <td>NaN</td>\n",
              "      <td>NaN</td>\n",
              "      <td>NaN</td>\n",
              "      <td>0.00</td>\n",
              "      <td>0.0</td>\n",
              "      <td>...</td>\n",
              "      <td>NaN</td>\n",
              "      <td>NaN</td>\n",
              "      <td>NaN</td>\n",
              "      <td>NaN</td>\n",
              "      <td>NaN</td>\n",
              "      <td>NaN</td>\n",
              "      <td>NaN</td>\n",
              "      <td>NaN</td>\n",
              "      <td>NaN</td>\n",
              "      <td>NaN</td>\n",
              "    </tr>\n",
              "    <tr>\n",
              "      <th>...</th>\n",
              "      <td>...</td>\n",
              "      <td>...</td>\n",
              "      <td>...</td>\n",
              "      <td>...</td>\n",
              "      <td>...</td>\n",
              "      <td>...</td>\n",
              "      <td>...</td>\n",
              "      <td>...</td>\n",
              "      <td>...</td>\n",
              "      <td>...</td>\n",
              "      <td>...</td>\n",
              "      <td>...</td>\n",
              "      <td>...</td>\n",
              "      <td>...</td>\n",
              "      <td>...</td>\n",
              "      <td>...</td>\n",
              "      <td>...</td>\n",
              "      <td>...</td>\n",
              "      <td>...</td>\n",
              "      <td>...</td>\n",
              "      <td>...</td>\n",
              "    </tr>\n",
              "    <tr>\n",
              "      <th>f8abb882afa8224ee00d196dff235725</th>\n",
              "      <td>NaN</td>\n",
              "      <td>NaN</td>\n",
              "      <td>NaN</td>\n",
              "      <td>NaN</td>\n",
              "      <td>NaN</td>\n",
              "      <td>NaN</td>\n",
              "      <td>NaN</td>\n",
              "      <td>NaN</td>\n",
              "      <td>NaN</td>\n",
              "      <td>NaN</td>\n",
              "      <td>...</td>\n",
              "      <td>NaN</td>\n",
              "      <td>NaN</td>\n",
              "      <td>NaN</td>\n",
              "      <td>NaN</td>\n",
              "      <td>NaN</td>\n",
              "      <td>NaN</td>\n",
              "      <td>NaN</td>\n",
              "      <td>NaN</td>\n",
              "      <td>NaN</td>\n",
              "      <td>NaN</td>\n",
              "    </tr>\n",
              "    <tr>\n",
              "      <th>fb91d98e9d9b5ad24acab09f0de394e5</th>\n",
              "      <td>NaN</td>\n",
              "      <td>NaN</td>\n",
              "      <td>NaN</td>\n",
              "      <td>NaN</td>\n",
              "      <td>NaN</td>\n",
              "      <td>NaN</td>\n",
              "      <td>NaN</td>\n",
              "      <td>NaN</td>\n",
              "      <td>NaN</td>\n",
              "      <td>NaN</td>\n",
              "      <td>...</td>\n",
              "      <td>NaN</td>\n",
              "      <td>NaN</td>\n",
              "      <td>NaN</td>\n",
              "      <td>NaN</td>\n",
              "      <td>NaN</td>\n",
              "      <td>NaN</td>\n",
              "      <td>NaN</td>\n",
              "      <td>NaN</td>\n",
              "      <td>NaN</td>\n",
              "      <td>NaN</td>\n",
              "    </tr>\n",
              "    <tr>\n",
              "      <th>fbf60022d446f4d55e3433ab85ef7683</th>\n",
              "      <td>NaN</td>\n",
              "      <td>NaN</td>\n",
              "      <td>NaN</td>\n",
              "      <td>NaN</td>\n",
              "      <td>NaN</td>\n",
              "      <td>NaN</td>\n",
              "      <td>NaN</td>\n",
              "      <td>NaN</td>\n",
              "      <td>NaN</td>\n",
              "      <td>NaN</td>\n",
              "      <td>...</td>\n",
              "      <td>NaN</td>\n",
              "      <td>NaN</td>\n",
              "      <td>NaN</td>\n",
              "      <td>NaN</td>\n",
              "      <td>NaN</td>\n",
              "      <td>NaN</td>\n",
              "      <td>NaN</td>\n",
              "      <td>NaN</td>\n",
              "      <td>NaN</td>\n",
              "      <td>NaN</td>\n",
              "    </tr>\n",
              "    <tr>\n",
              "      <th>fc7a8f6dc52d102168580088ca84cc7c</th>\n",
              "      <td>NaN</td>\n",
              "      <td>NaN</td>\n",
              "      <td>NaN</td>\n",
              "      <td>NaN</td>\n",
              "      <td>NaN</td>\n",
              "      <td>NaN</td>\n",
              "      <td>NaN</td>\n",
              "      <td>NaN</td>\n",
              "      <td>NaN</td>\n",
              "      <td>NaN</td>\n",
              "      <td>...</td>\n",
              "      <td>NaN</td>\n",
              "      <td>NaN</td>\n",
              "      <td>NaN</td>\n",
              "      <td>NaN</td>\n",
              "      <td>NaN</td>\n",
              "      <td>NaN</td>\n",
              "      <td>NaN</td>\n",
              "      <td>NaN</td>\n",
              "      <td>NaN</td>\n",
              "      <td>NaN</td>\n",
              "    </tr>\n",
              "    <tr>\n",
              "      <th>fde74e5d355d05e2301e4e13a8ee4ab2</th>\n",
              "      <td>NaN</td>\n",
              "      <td>NaN</td>\n",
              "      <td>NaN</td>\n",
              "      <td>NaN</td>\n",
              "      <td>NaN</td>\n",
              "      <td>NaN</td>\n",
              "      <td>NaN</td>\n",
              "      <td>NaN</td>\n",
              "      <td>NaN</td>\n",
              "      <td>NaN</td>\n",
              "      <td>...</td>\n",
              "      <td>NaN</td>\n",
              "      <td>NaN</td>\n",
              "      <td>NaN</td>\n",
              "      <td>NaN</td>\n",
              "      <td>NaN</td>\n",
              "      <td>NaN</td>\n",
              "      <td>NaN</td>\n",
              "      <td>NaN</td>\n",
              "      <td>NaN</td>\n",
              "      <td>NaN</td>\n",
              "    </tr>\n",
              "  </tbody>\n",
              "</table>\n",
              "<p>7560 rows × 2577 columns</p>\n",
              "</div>\n",
              "    <div class=\"colab-df-buttons\">\n",
              "\n",
              "  <div class=\"colab-df-container\">\n",
              "    <button class=\"colab-df-convert\" onclick=\"convertToInteractive('df-173fca75-20f7-415e-9a71-5950db0cec58')\"\n",
              "            title=\"Convert this dataframe to an interactive table.\"\n",
              "            style=\"display:none;\">\n",
              "\n",
              "  <svg xmlns=\"http://www.w3.org/2000/svg\" height=\"24px\" viewBox=\"0 -960 960 960\">\n",
              "    <path d=\"M120-120v-720h720v720H120Zm60-500h600v-160H180v160Zm220 220h160v-160H400v160Zm0 220h160v-160H400v160ZM180-400h160v-160H180v160Zm440 0h160v-160H620v160ZM180-180h160v-160H180v160Zm440 0h160v-160H620v160Z\"/>\n",
              "  </svg>\n",
              "    </button>\n",
              "\n",
              "  <style>\n",
              "    .colab-df-container {\n",
              "      display:flex;\n",
              "      gap: 12px;\n",
              "    }\n",
              "\n",
              "    .colab-df-convert {\n",
              "      background-color: #E8F0FE;\n",
              "      border: none;\n",
              "      border-radius: 50%;\n",
              "      cursor: pointer;\n",
              "      display: none;\n",
              "      fill: #1967D2;\n",
              "      height: 32px;\n",
              "      padding: 0 0 0 0;\n",
              "      width: 32px;\n",
              "    }\n",
              "\n",
              "    .colab-df-convert:hover {\n",
              "      background-color: #E2EBFA;\n",
              "      box-shadow: 0px 1px 2px rgba(60, 64, 67, 0.3), 0px 1px 3px 1px rgba(60, 64, 67, 0.15);\n",
              "      fill: #174EA6;\n",
              "    }\n",
              "\n",
              "    .colab-df-buttons div {\n",
              "      margin-bottom: 4px;\n",
              "    }\n",
              "\n",
              "    [theme=dark] .colab-df-convert {\n",
              "      background-color: #3B4455;\n",
              "      fill: #D2E3FC;\n",
              "    }\n",
              "\n",
              "    [theme=dark] .colab-df-convert:hover {\n",
              "      background-color: #434B5C;\n",
              "      box-shadow: 0px 1px 3px 1px rgba(0, 0, 0, 0.15);\n",
              "      filter: drop-shadow(0px 1px 2px rgba(0, 0, 0, 0.3));\n",
              "      fill: #FFFFFF;\n",
              "    }\n",
              "  </style>\n",
              "\n",
              "    <script>\n",
              "      const buttonEl =\n",
              "        document.querySelector('#df-173fca75-20f7-415e-9a71-5950db0cec58 button.colab-df-convert');\n",
              "      buttonEl.style.display =\n",
              "        google.colab.kernel.accessAllowed ? 'block' : 'none';\n",
              "\n",
              "      async function convertToInteractive(key) {\n",
              "        const element = document.querySelector('#df-173fca75-20f7-415e-9a71-5950db0cec58');\n",
              "        const dataTable =\n",
              "          await google.colab.kernel.invokeFunction('convertToInteractive',\n",
              "                                                    [key], {});\n",
              "        if (!dataTable) return;\n",
              "\n",
              "        const docLinkHtml = 'Like what you see? Visit the ' +\n",
              "          '<a target=\"_blank\" href=https://colab.research.google.com/notebooks/data_table.ipynb>data table notebook</a>'\n",
              "          + ' to learn more about interactive tables.';\n",
              "        element.innerHTML = '';\n",
              "        dataTable['output_type'] = 'display_data';\n",
              "        await google.colab.output.renderOutput(dataTable, element);\n",
              "        const docLink = document.createElement('div');\n",
              "        docLink.innerHTML = docLinkHtml;\n",
              "        element.appendChild(docLink);\n",
              "      }\n",
              "    </script>\n",
              "  </div>\n",
              "\n",
              "\n",
              "<div id=\"df-42c2c57c-a0d6-4040-94bb-e57681f1e301\">\n",
              "  <button class=\"colab-df-quickchart\" onclick=\"quickchart('df-42c2c57c-a0d6-4040-94bb-e57681f1e301')\"\n",
              "            title=\"Suggest charts\"\n",
              "            style=\"display:none;\">\n",
              "\n",
              "<svg xmlns=\"http://www.w3.org/2000/svg\" height=\"24px\"viewBox=\"0 0 24 24\"\n",
              "     width=\"24px\">\n",
              "    <g>\n",
              "        <path d=\"M19 3H5c-1.1 0-2 .9-2 2v14c0 1.1.9 2 2 2h14c1.1 0 2-.9 2-2V5c0-1.1-.9-2-2-2zM9 17H7v-7h2v7zm4 0h-2V7h2v10zm4 0h-2v-4h2v4z\"/>\n",
              "    </g>\n",
              "</svg>\n",
              "  </button>\n",
              "\n",
              "<style>\n",
              "  .colab-df-quickchart {\n",
              "      --bg-color: #E8F0FE;\n",
              "      --fill-color: #1967D2;\n",
              "      --hover-bg-color: #E2EBFA;\n",
              "      --hover-fill-color: #174EA6;\n",
              "      --disabled-fill-color: #AAA;\n",
              "      --disabled-bg-color: #DDD;\n",
              "  }\n",
              "\n",
              "  [theme=dark] .colab-df-quickchart {\n",
              "      --bg-color: #3B4455;\n",
              "      --fill-color: #D2E3FC;\n",
              "      --hover-bg-color: #434B5C;\n",
              "      --hover-fill-color: #FFFFFF;\n",
              "      --disabled-bg-color: #3B4455;\n",
              "      --disabled-fill-color: #666;\n",
              "  }\n",
              "\n",
              "  .colab-df-quickchart {\n",
              "    background-color: var(--bg-color);\n",
              "    border: none;\n",
              "    border-radius: 50%;\n",
              "    cursor: pointer;\n",
              "    display: none;\n",
              "    fill: var(--fill-color);\n",
              "    height: 32px;\n",
              "    padding: 0;\n",
              "    width: 32px;\n",
              "  }\n",
              "\n",
              "  .colab-df-quickchart:hover {\n",
              "    background-color: var(--hover-bg-color);\n",
              "    box-shadow: 0 1px 2px rgba(60, 64, 67, 0.3), 0 1px 3px 1px rgba(60, 64, 67, 0.15);\n",
              "    fill: var(--button-hover-fill-color);\n",
              "  }\n",
              "\n",
              "  .colab-df-quickchart-complete:disabled,\n",
              "  .colab-df-quickchart-complete:disabled:hover {\n",
              "    background-color: var(--disabled-bg-color);\n",
              "    fill: var(--disabled-fill-color);\n",
              "    box-shadow: none;\n",
              "  }\n",
              "\n",
              "  .colab-df-spinner {\n",
              "    border: 2px solid var(--fill-color);\n",
              "    border-color: transparent;\n",
              "    border-bottom-color: var(--fill-color);\n",
              "    animation:\n",
              "      spin 1s steps(1) infinite;\n",
              "  }\n",
              "\n",
              "  @keyframes spin {\n",
              "    0% {\n",
              "      border-color: transparent;\n",
              "      border-bottom-color: var(--fill-color);\n",
              "      border-left-color: var(--fill-color);\n",
              "    }\n",
              "    20% {\n",
              "      border-color: transparent;\n",
              "      border-left-color: var(--fill-color);\n",
              "      border-top-color: var(--fill-color);\n",
              "    }\n",
              "    30% {\n",
              "      border-color: transparent;\n",
              "      border-left-color: var(--fill-color);\n",
              "      border-top-color: var(--fill-color);\n",
              "      border-right-color: var(--fill-color);\n",
              "    }\n",
              "    40% {\n",
              "      border-color: transparent;\n",
              "      border-right-color: var(--fill-color);\n",
              "      border-top-color: var(--fill-color);\n",
              "    }\n",
              "    60% {\n",
              "      border-color: transparent;\n",
              "      border-right-color: var(--fill-color);\n",
              "    }\n",
              "    80% {\n",
              "      border-color: transparent;\n",
              "      border-right-color: var(--fill-color);\n",
              "      border-bottom-color: var(--fill-color);\n",
              "    }\n",
              "    90% {\n",
              "      border-color: transparent;\n",
              "      border-bottom-color: var(--fill-color);\n",
              "    }\n",
              "  }\n",
              "</style>\n",
              "\n",
              "  <script>\n",
              "    async function quickchart(key) {\n",
              "      const quickchartButtonEl =\n",
              "        document.querySelector('#' + key + ' button');\n",
              "      quickchartButtonEl.disabled = true;  // To prevent multiple clicks.\n",
              "      quickchartButtonEl.classList.add('colab-df-spinner');\n",
              "      try {\n",
              "        const charts = await google.colab.kernel.invokeFunction(\n",
              "            'suggestCharts', [key], {});\n",
              "      } catch (error) {\n",
              "        console.error('Error during call to suggestCharts:', error);\n",
              "      }\n",
              "      quickchartButtonEl.classList.remove('colab-df-spinner');\n",
              "      quickchartButtonEl.classList.add('colab-df-quickchart-complete');\n",
              "    }\n",
              "    (() => {\n",
              "      let quickchartButtonEl =\n",
              "        document.querySelector('#df-42c2c57c-a0d6-4040-94bb-e57681f1e301 button');\n",
              "      quickchartButtonEl.style.display =\n",
              "        google.colab.kernel.accessAllowed ? 'block' : 'none';\n",
              "    })();\n",
              "  </script>\n",
              "</div>\n",
              "    </div>\n",
              "  </div>\n"
            ],
            "text/plain": [
              "                                  12370.0_positive_transactions_min  \\\n",
              "client_id                                                             \n",
              "0002cf30347684df542e1a931f356875                                NaN   \n",
              "0002f4661e0d4d2ae097d78552dad022                                NaN   \n",
              "00081e0eca8ad94e493691f8f00099c6                                NaN   \n",
              "0019bebcb5435df3103a5b0b52f5fc6b                                NaN   \n",
              "001c8191ecac499718b33dc293a99e5b                                NaN   \n",
              "...                                                             ...   \n",
              "f8abb882afa8224ee00d196dff235725                                NaN   \n",
              "fb91d98e9d9b5ad24acab09f0de394e5                                NaN   \n",
              "fbf60022d446f4d55e3433ab85ef7683                                NaN   \n",
              "fc7a8f6dc52d102168580088ca84cc7c                                NaN   \n",
              "fde74e5d355d05e2301e4e13a8ee4ab2                                NaN   \n",
              "\n",
              "                                  12370.0_positive_transactions_max  \\\n",
              "client_id                                                             \n",
              "0002cf30347684df542e1a931f356875                                NaN   \n",
              "0002f4661e0d4d2ae097d78552dad022                                NaN   \n",
              "00081e0eca8ad94e493691f8f00099c6                                NaN   \n",
              "0019bebcb5435df3103a5b0b52f5fc6b                                NaN   \n",
              "001c8191ecac499718b33dc293a99e5b                                NaN   \n",
              "...                                                             ...   \n",
              "f8abb882afa8224ee00d196dff235725                                NaN   \n",
              "fb91d98e9d9b5ad24acab09f0de394e5                                NaN   \n",
              "fbf60022d446f4d55e3433ab85ef7683                                NaN   \n",
              "fc7a8f6dc52d102168580088ca84cc7c                                NaN   \n",
              "fde74e5d355d05e2301e4e13a8ee4ab2                                NaN   \n",
              "\n",
              "                                  12370.0_positive_transactions_median  \\\n",
              "client_id                                                                \n",
              "0002cf30347684df542e1a931f356875                                   NaN   \n",
              "0002f4661e0d4d2ae097d78552dad022                                   NaN   \n",
              "00081e0eca8ad94e493691f8f00099c6                                   NaN   \n",
              "0019bebcb5435df3103a5b0b52f5fc6b                                   NaN   \n",
              "001c8191ecac499718b33dc293a99e5b                                   NaN   \n",
              "...                                                                ...   \n",
              "f8abb882afa8224ee00d196dff235725                                   NaN   \n",
              "fb91d98e9d9b5ad24acab09f0de394e5                                   NaN   \n",
              "fbf60022d446f4d55e3433ab85ef7683                                   NaN   \n",
              "fc7a8f6dc52d102168580088ca84cc7c                                   NaN   \n",
              "fde74e5d355d05e2301e4e13a8ee4ab2                                   NaN   \n",
              "\n",
              "                                  12370.0_positive_transactions_sum  \\\n",
              "client_id                                                             \n",
              "0002cf30347684df542e1a931f356875                                0.0   \n",
              "0002f4661e0d4d2ae097d78552dad022                                0.0   \n",
              "00081e0eca8ad94e493691f8f00099c6                                0.0   \n",
              "0019bebcb5435df3103a5b0b52f5fc6b                                0.0   \n",
              "001c8191ecac499718b33dc293a99e5b                                0.0   \n",
              "...                                                             ...   \n",
              "f8abb882afa8224ee00d196dff235725                                NaN   \n",
              "fb91d98e9d9b5ad24acab09f0de394e5                                NaN   \n",
              "fbf60022d446f4d55e3433ab85ef7683                                NaN   \n",
              "fc7a8f6dc52d102168580088ca84cc7c                                NaN   \n",
              "fde74e5d355d05e2301e4e13a8ee4ab2                                NaN   \n",
              "\n",
              "                                  12370.0_positive_transactions_count  \\\n",
              "client_id                                                               \n",
              "0002cf30347684df542e1a931f356875                                  0.0   \n",
              "0002f4661e0d4d2ae097d78552dad022                                  0.0   \n",
              "00081e0eca8ad94e493691f8f00099c6                                  0.0   \n",
              "0019bebcb5435df3103a5b0b52f5fc6b                                  0.0   \n",
              "001c8191ecac499718b33dc293a99e5b                                  0.0   \n",
              "...                                                               ...   \n",
              "f8abb882afa8224ee00d196dff235725                                  NaN   \n",
              "fb91d98e9d9b5ad24acab09f0de394e5                                  NaN   \n",
              "fbf60022d446f4d55e3433ab85ef7683                                  NaN   \n",
              "fc7a8f6dc52d102168580088ca84cc7c                                  NaN   \n",
              "fde74e5d355d05e2301e4e13a8ee4ab2                                  NaN   \n",
              "\n",
              "                                  12370.0_negative_transactions_min  \\\n",
              "client_id                                                             \n",
              "0002cf30347684df542e1a931f356875                           -2170.07   \n",
              "0002f4661e0d4d2ae097d78552dad022                                NaN   \n",
              "00081e0eca8ad94e493691f8f00099c6                                NaN   \n",
              "0019bebcb5435df3103a5b0b52f5fc6b                          -20246.83   \n",
              "001c8191ecac499718b33dc293a99e5b                                NaN   \n",
              "...                                                             ...   \n",
              "f8abb882afa8224ee00d196dff235725                                NaN   \n",
              "fb91d98e9d9b5ad24acab09f0de394e5                                NaN   \n",
              "fbf60022d446f4d55e3433ab85ef7683                                NaN   \n",
              "fc7a8f6dc52d102168580088ca84cc7c                                NaN   \n",
              "fde74e5d355d05e2301e4e13a8ee4ab2                                NaN   \n",
              "\n",
              "                                  12370.0_negative_transactions_max  \\\n",
              "client_id                                                             \n",
              "0002cf30347684df542e1a931f356875                           -2170.07   \n",
              "0002f4661e0d4d2ae097d78552dad022                                NaN   \n",
              "00081e0eca8ad94e493691f8f00099c6                                NaN   \n",
              "0019bebcb5435df3103a5b0b52f5fc6b                             -17.49   \n",
              "001c8191ecac499718b33dc293a99e5b                                NaN   \n",
              "...                                                             ...   \n",
              "f8abb882afa8224ee00d196dff235725                                NaN   \n",
              "fb91d98e9d9b5ad24acab09f0de394e5                                NaN   \n",
              "fbf60022d446f4d55e3433ab85ef7683                                NaN   \n",
              "fc7a8f6dc52d102168580088ca84cc7c                                NaN   \n",
              "fde74e5d355d05e2301e4e13a8ee4ab2                                NaN   \n",
              "\n",
              "                                  12370.0_negative_transactions_median  \\\n",
              "client_id                                                                \n",
              "0002cf30347684df542e1a931f356875                             -2170.070   \n",
              "0002f4661e0d4d2ae097d78552dad022                                   NaN   \n",
              "00081e0eca8ad94e493691f8f00099c6                                   NaN   \n",
              "0019bebcb5435df3103a5b0b52f5fc6b                              -578.445   \n",
              "001c8191ecac499718b33dc293a99e5b                                   NaN   \n",
              "...                                                                ...   \n",
              "f8abb882afa8224ee00d196dff235725                                   NaN   \n",
              "fb91d98e9d9b5ad24acab09f0de394e5                                   NaN   \n",
              "fbf60022d446f4d55e3433ab85ef7683                                   NaN   \n",
              "fc7a8f6dc52d102168580088ca84cc7c                                   NaN   \n",
              "fde74e5d355d05e2301e4e13a8ee4ab2                                   NaN   \n",
              "\n",
              "                                  12370.0_negative_transactions_sum  \\\n",
              "client_id                                                             \n",
              "0002cf30347684df542e1a931f356875                           -2170.07   \n",
              "0002f4661e0d4d2ae097d78552dad022                               0.00   \n",
              "00081e0eca8ad94e493691f8f00099c6                               0.00   \n",
              "0019bebcb5435df3103a5b0b52f5fc6b                          -33292.07   \n",
              "001c8191ecac499718b33dc293a99e5b                               0.00   \n",
              "...                                                             ...   \n",
              "f8abb882afa8224ee00d196dff235725                                NaN   \n",
              "fb91d98e9d9b5ad24acab09f0de394e5                                NaN   \n",
              "fbf60022d446f4d55e3433ab85ef7683                                NaN   \n",
              "fc7a8f6dc52d102168580088ca84cc7c                                NaN   \n",
              "fde74e5d355d05e2301e4e13a8ee4ab2                                NaN   \n",
              "\n",
              "                                  12370.0_negative_transactions_count  ...  \\\n",
              "client_id                                                              ...   \n",
              "0002cf30347684df542e1a931f356875                                  1.0  ...   \n",
              "0002f4661e0d4d2ae097d78552dad022                                  0.0  ...   \n",
              "00081e0eca8ad94e493691f8f00099c6                                  0.0  ...   \n",
              "0019bebcb5435df3103a5b0b52f5fc6b                                 20.0  ...   \n",
              "001c8191ecac499718b33dc293a99e5b                                  0.0  ...   \n",
              "...                                                               ...  ...   \n",
              "f8abb882afa8224ee00d196dff235725                                  NaN  ...   \n",
              "fb91d98e9d9b5ad24acab09f0de394e5                                  NaN  ...   \n",
              "fbf60022d446f4d55e3433ab85ef7683                                  NaN  ...   \n",
              "fc7a8f6dc52d102168580088ca84cc7c                                  NaN  ...   \n",
              "fde74e5d355d05e2301e4e13a8ee4ab2                                  NaN  ...   \n",
              "\n",
              "                                  9311_positive_transactionscount  \\\n",
              "client_id                                                           \n",
              "0002cf30347684df542e1a931f356875                              NaN   \n",
              "0002f4661e0d4d2ae097d78552dad022                              NaN   \n",
              "00081e0eca8ad94e493691f8f00099c6                              NaN   \n",
              "0019bebcb5435df3103a5b0b52f5fc6b                              NaN   \n",
              "001c8191ecac499718b33dc293a99e5b                              NaN   \n",
              "...                                                           ...   \n",
              "f8abb882afa8224ee00d196dff235725                              NaN   \n",
              "fb91d98e9d9b5ad24acab09f0de394e5                              NaN   \n",
              "fbf60022d446f4d55e3433ab85ef7683                              NaN   \n",
              "fc7a8f6dc52d102168580088ca84cc7c                              NaN   \n",
              "fde74e5d355d05e2301e4e13a8ee4ab2                              NaN   \n",
              "\n",
              "                                  9311_positive_transactionssum  \\\n",
              "client_id                                                         \n",
              "0002cf30347684df542e1a931f356875                            NaN   \n",
              "0002f4661e0d4d2ae097d78552dad022                            NaN   \n",
              "00081e0eca8ad94e493691f8f00099c6                            NaN   \n",
              "0019bebcb5435df3103a5b0b52f5fc6b                            NaN   \n",
              "001c8191ecac499718b33dc293a99e5b                            NaN   \n",
              "...                                                         ...   \n",
              "f8abb882afa8224ee00d196dff235725                            NaN   \n",
              "fb91d98e9d9b5ad24acab09f0de394e5                            NaN   \n",
              "fbf60022d446f4d55e3433ab85ef7683                            NaN   \n",
              "fc7a8f6dc52d102168580088ca84cc7c                            NaN   \n",
              "fde74e5d355d05e2301e4e13a8ee4ab2                            NaN   \n",
              "\n",
              "                                  9399_negative_transactionscount  \\\n",
              "client_id                                                           \n",
              "0002cf30347684df542e1a931f356875                              NaN   \n",
              "0002f4661e0d4d2ae097d78552dad022                              NaN   \n",
              "00081e0eca8ad94e493691f8f00099c6                              NaN   \n",
              "0019bebcb5435df3103a5b0b52f5fc6b                              NaN   \n",
              "001c8191ecac499718b33dc293a99e5b                              NaN   \n",
              "...                                                           ...   \n",
              "f8abb882afa8224ee00d196dff235725                              NaN   \n",
              "fb91d98e9d9b5ad24acab09f0de394e5                              NaN   \n",
              "fbf60022d446f4d55e3433ab85ef7683                              NaN   \n",
              "fc7a8f6dc52d102168580088ca84cc7c                              NaN   \n",
              "fde74e5d355d05e2301e4e13a8ee4ab2                              NaN   \n",
              "\n",
              "                                  9399_negative_transactionssum  \\\n",
              "client_id                                                         \n",
              "0002cf30347684df542e1a931f356875                            NaN   \n",
              "0002f4661e0d4d2ae097d78552dad022                            NaN   \n",
              "00081e0eca8ad94e493691f8f00099c6                            NaN   \n",
              "0019bebcb5435df3103a5b0b52f5fc6b                            NaN   \n",
              "001c8191ecac499718b33dc293a99e5b                            NaN   \n",
              "...                                                         ...   \n",
              "f8abb882afa8224ee00d196dff235725                            NaN   \n",
              "fb91d98e9d9b5ad24acab09f0de394e5                            NaN   \n",
              "fbf60022d446f4d55e3433ab85ef7683                            NaN   \n",
              "fc7a8f6dc52d102168580088ca84cc7c                            NaN   \n",
              "fde74e5d355d05e2301e4e13a8ee4ab2                            NaN   \n",
              "\n",
              "                                  9399_positive_transactionscount  \\\n",
              "client_id                                                           \n",
              "0002cf30347684df542e1a931f356875                              NaN   \n",
              "0002f4661e0d4d2ae097d78552dad022                              NaN   \n",
              "00081e0eca8ad94e493691f8f00099c6                              NaN   \n",
              "0019bebcb5435df3103a5b0b52f5fc6b                              NaN   \n",
              "001c8191ecac499718b33dc293a99e5b                              NaN   \n",
              "...                                                           ...   \n",
              "f8abb882afa8224ee00d196dff235725                              NaN   \n",
              "fb91d98e9d9b5ad24acab09f0de394e5                              NaN   \n",
              "fbf60022d446f4d55e3433ab85ef7683                              NaN   \n",
              "fc7a8f6dc52d102168580088ca84cc7c                              NaN   \n",
              "fde74e5d355d05e2301e4e13a8ee4ab2                              NaN   \n",
              "\n",
              "                                  9399_positive_transactionssum  \\\n",
              "client_id                                                         \n",
              "0002cf30347684df542e1a931f356875                            NaN   \n",
              "0002f4661e0d4d2ae097d78552dad022                            NaN   \n",
              "00081e0eca8ad94e493691f8f00099c6                            NaN   \n",
              "0019bebcb5435df3103a5b0b52f5fc6b                            NaN   \n",
              "001c8191ecac499718b33dc293a99e5b                            NaN   \n",
              "...                                                         ...   \n",
              "f8abb882afa8224ee00d196dff235725                            NaN   \n",
              "fb91d98e9d9b5ad24acab09f0de394e5                            NaN   \n",
              "fbf60022d446f4d55e3433ab85ef7683                            NaN   \n",
              "fc7a8f6dc52d102168580088ca84cc7c                            NaN   \n",
              "fde74e5d355d05e2301e4e13a8ee4ab2                            NaN   \n",
              "\n",
              "                                  9402_negative_transactionscount  \\\n",
              "client_id                                                           \n",
              "0002cf30347684df542e1a931f356875                              NaN   \n",
              "0002f4661e0d4d2ae097d78552dad022                              NaN   \n",
              "00081e0eca8ad94e493691f8f00099c6                              NaN   \n",
              "0019bebcb5435df3103a5b0b52f5fc6b                              NaN   \n",
              "001c8191ecac499718b33dc293a99e5b                              NaN   \n",
              "...                                                           ...   \n",
              "f8abb882afa8224ee00d196dff235725                              NaN   \n",
              "fb91d98e9d9b5ad24acab09f0de394e5                              NaN   \n",
              "fbf60022d446f4d55e3433ab85ef7683                              NaN   \n",
              "fc7a8f6dc52d102168580088ca84cc7c                              NaN   \n",
              "fde74e5d355d05e2301e4e13a8ee4ab2                              NaN   \n",
              "\n",
              "                                  9402_negative_transactionssum  \\\n",
              "client_id                                                         \n",
              "0002cf30347684df542e1a931f356875                            NaN   \n",
              "0002f4661e0d4d2ae097d78552dad022                            NaN   \n",
              "00081e0eca8ad94e493691f8f00099c6                            NaN   \n",
              "0019bebcb5435df3103a5b0b52f5fc6b                            NaN   \n",
              "001c8191ecac499718b33dc293a99e5b                            NaN   \n",
              "...                                                         ...   \n",
              "f8abb882afa8224ee00d196dff235725                            NaN   \n",
              "fb91d98e9d9b5ad24acab09f0de394e5                            NaN   \n",
              "fbf60022d446f4d55e3433ab85ef7683                            NaN   \n",
              "fc7a8f6dc52d102168580088ca84cc7c                            NaN   \n",
              "fde74e5d355d05e2301e4e13a8ee4ab2                            NaN   \n",
              "\n",
              "                                  9402_positive_transactionscount  \\\n",
              "client_id                                                           \n",
              "0002cf30347684df542e1a931f356875                              NaN   \n",
              "0002f4661e0d4d2ae097d78552dad022                              NaN   \n",
              "00081e0eca8ad94e493691f8f00099c6                              NaN   \n",
              "0019bebcb5435df3103a5b0b52f5fc6b                              NaN   \n",
              "001c8191ecac499718b33dc293a99e5b                              NaN   \n",
              "...                                                           ...   \n",
              "f8abb882afa8224ee00d196dff235725                              NaN   \n",
              "fb91d98e9d9b5ad24acab09f0de394e5                              NaN   \n",
              "fbf60022d446f4d55e3433ab85ef7683                              NaN   \n",
              "fc7a8f6dc52d102168580088ca84cc7c                              NaN   \n",
              "fde74e5d355d05e2301e4e13a8ee4ab2                              NaN   \n",
              "\n",
              "                                  9402_positive_transactionssum  \n",
              "client_id                                                        \n",
              "0002cf30347684df542e1a931f356875                            NaN  \n",
              "0002f4661e0d4d2ae097d78552dad022                            NaN  \n",
              "00081e0eca8ad94e493691f8f00099c6                            NaN  \n",
              "0019bebcb5435df3103a5b0b52f5fc6b                            NaN  \n",
              "001c8191ecac499718b33dc293a99e5b                            NaN  \n",
              "...                                                         ...  \n",
              "f8abb882afa8224ee00d196dff235725                            NaN  \n",
              "fb91d98e9d9b5ad24acab09f0de394e5                            NaN  \n",
              "fbf60022d446f4d55e3433ab85ef7683                            NaN  \n",
              "fc7a8f6dc52d102168580088ca84cc7c                            NaN  \n",
              "fde74e5d355d05e2301e4e13a8ee4ab2                            NaN  \n",
              "\n",
              "[7560 rows x 2577 columns]"
            ]
          },
          "execution_count": 35,
          "metadata": {},
          "output_type": "execute_result"
        }
      ],
      "source": [
        "super_final_train"
      ]
    },
    {
      "cell_type": "code",
      "execution_count": null,
      "metadata": {
        "id": "mGxf0qCkJW9j"
      },
      "outputs": [],
      "source": [
        "# super_final_train.to_csv('data_train_real_final.csv')\n",
        "super_final_test.to_csv('data_test_real_final.csv')"
      ]
    },
    {
      "cell_type": "code",
      "execution_count": null,
      "metadata": {
        "ExecuteTime": {
          "end_time": "2019-03-05T17:37:28.307548Z",
          "start_time": "2019-03-05T17:37:27.205214Z"
        },
        "colab": {
          "base_uri": "https://localhost:8080/"
        },
        "id": "YUNoqK2k5dV4",
        "outputId": "ac54247e-c735-42a4-a9bf-e9825bd25a62"
      },
      "outputs": [
        {
          "name": "stderr",
          "output_type": "stream",
          "text": [
            "/usr/local/lib/python3.10/dist-packages/xgboost/core.py:160: UserWarning:\n",
            "\n",
            "[14:46:30] WARNING: /workspace/src/learner.cc:742: \n",
            "Parameters: { \"njobs\" } are not used.\n",
            "\n",
            "\n"
          ]
        }
      ],
      "source": [
        "# Число деревьев для XGBoost имеет смысл выятавлять по результатам на кросс-валидации\n",
        "clf, submission = fit_predict(params, 180, data_train[data_train.columns.intersection(data_test.columns)], data_test, target)"
      ]
    },
    {
      "cell_type": "code",
      "execution_count": null,
      "metadata": {
        "ExecuteTime": {
          "end_time": "2019-03-05T17:37:28.426836Z",
          "start_time": "2019-03-05T17:37:28.308620Z"
        },
        "colab": {
          "base_uri": "https://localhost:8080/",
          "height": 887
        },
        "id": "on82kR8T5dV4",
        "outputId": "89b12660-0ddc-4e4b-a9df-b0b1f8facc48"
      },
      "outputs": [
        {
          "data": {
            "image/png": "[encoded data removed]",
            "text/plain": [
              "<Figure size 1000x1000 with 1 Axes>"
            ]
          },
          "metadata": {},
          "output_type": "display_data"
        }
      ],
      "source": [
        "draw_feature_importances(clf, 10)"
      ]
    },
    {
      "cell_type": "markdown",
      "metadata": {
        "heading_collapsed": true,
        "id": "WSZc8eV_5dV5"
      },
      "source": [
        "<font size=3>Добавление новых переменных улучшило наши результаты ROC AUC с <b>62.2%</b> до <font color='red'><b>68.4%</b></font>, на тестовой выборке результат будет аналогичным, так что мы явно не переобучились. При этом есть куда стремиться!"
      ]
    },
    {
      "cell_type": "code",
      "execution_count": null,
      "metadata": {
        "ExecuteTime": {
          "end_time": "2019-03-05T17:37:28.448839Z",
          "start_time": "2019-03-05T17:37:28.438234Z"
        },
        "id": "z4K75Z4J5dV5",
        "tags": []
      },
      "outputs": [],
      "source": [
        "# Сохраняем результат моделирования\n",
        "\n",
        "submission.to_csv('advanced_features_submission.csv')"
      ]
    },
    {
      "cell_type": "code",
      "execution_count": null,
      "metadata": {
        "id": "oEbdXl76NaVM"
      },
      "outputs": [],
      "source": [
        "!pip freeze"
      ]
    },
    {
      "cell_type": "code",
      "execution_count": null,
      "metadata": {
        "id": "CYI5vNKzuHD_"
      },
      "outputs": [],
      "source": [
        "tqdm_notebook.pandas(desc=\"Progress\")\n",
        "\n",
        "def features_creation_basic(x):\n",
        "    features = []\n",
        "    # features.append(pd.Series(x[x['amount']>0]['amount'].agg(['min', 'max', 'mean', 'median', 'std', 'count'])\\\n",
        "    #                                                     .add_prefix('positive_transactions_')))\n",
        "    features.append(pd.Series(x[x['amount']<0]['amount'].agg(['min', 'max', 'mean', 'median', 'std', 'count'])\\\n",
        "                                                        .add_prefix('negative_transactions_')))\n",
        "    features.append(pd.Series(x[x['amount'] < 0]['minute'].apply(lambda x: 1 if (x==0 or x==59) else 0).agg(['mean'])).add_prefix('minute_negative_transactrions_'))\n",
        "    features.append(pd.Series(x[x['amount'] < 0]['hour'].apply(lambda x: 1 if (x==0 or x==23)  else 0).agg(['mean'])).add_prefix('hour_negative_transactrions_'))\n",
        "\n",
        "    return pd.concat(features)\n",
        "\n",
        "data_train = transactions_train.groupby(transactions_train.index).progress_apply(features_creation_basic)\n",
        "data_test = transactions_test.groupby(transactions_test.index).progress_apply(features_creation_basic)"
      ]
    }
  ],
  "metadata": {
    "colab": {
      "provenance": []
    },
    "hide_input": false,
    "kernelspec": {
      "display_name": "Python 3 (ipykernel)",
      "language": "python",
      "name": "python3"
    },
    "language_info": {
      "codemirror_mode": {
        "name": "ipython",
        "version": 3
      },
      "file_extension": ".py",
      "mimetype": "text/x-python",
      "name": "python",
      "nbconvert_exporter": "python",
      "pygments_lexer": "ipython3",
      "version": "3.11.4"
    },
    "varInspector": {
      "cols": {
        "lenName": 16,
        "lenType": 16,
        "lenVar": 40
      },
      "kernels_config": {
        "python": {
          "delete_cmd_postfix": "",
          "delete_cmd_prefix": "del ",
          "library": "var_list.py",
          "varRefreshCmd": "print(var_dic_list())"
        },
        "r": {
          "delete_cmd_postfix": ") ",
          "delete_cmd_prefix": "rm(",
          "library": "var_list.r",
          "varRefreshCmd": "cat(var_dic_list()) "
        }
      },
      "types_to_exclude": [
        "module",
        "function",
        "builtin_function_or_method",
        "instance",
        "_Feature"
      ],
      "window_display": false
    },
    "widgets": {
      "application/vnd.jupyter.widget-state+json": {
        "0a589286cc8d4155865e245cf65859d1": {
          "model_module": "@jupyter-widgets/controls",
          "model_module_version": "1.5.0",
          "model_name": "DescriptionStyleModel",
          "state": {
            "_model_module": "@jupyter-widgets/controls",
            "_model_module_version": "1.5.0",
            "_model_name": "DescriptionStyleModel",
            "_view_count": null,
            "_view_module": "@jupyter-widgets/base",
            "_view_module_version": "1.2.0",
            "_view_name": "StyleView",
            "description_width": ""
          }
        },
        "181b4e1319824c83b87c4f468e61b48a": {
          "model_module": "@jupyter-widgets/controls",
          "model_module_version": "1.5.0",
          "model_name": "FloatProgressModel",
          "state": {
            "_dom_classes": [],
            "_model_module": "@jupyter-widgets/controls",
            "_model_module_version": "1.5.0",
            "_model_name": "FloatProgressModel",
            "_view_count": null,
            "_view_module": "@jupyter-widgets/controls",
            "_view_module_version": "1.5.0",
            "_view_name": "ProgressView",
            "bar_style": "success",
            "description": "",
            "description_tooltip": null,
            "layout": "IPY_MODEL_5f028a83f9bb4608b41336d109745882",
            "max": 7446,
            "min": 0,
            "orientation": "horizontal",
            "style": "IPY_MODEL_f4a090cef880400bbcc42743b3f2f70c",
            "value": 7446
          }
        },
        "34e0d0f10f474bf3b564788b9599ab46": {
          "model_module": "@jupyter-widgets/base",
          "model_module_version": "1.2.0",
          "model_name": "LayoutModel",
          "state": {
            "_model_module": "@jupyter-widgets/base",
            "_model_module_version": "1.2.0",
            "_model_name": "LayoutModel",
            "_view_count": null,
            "_view_module": "@jupyter-widgets/base",
            "_view_module_version": "1.2.0",
            "_view_name": "LayoutView",
            "align_content": null,
            "align_items": null,
            "align_self": null,
            "border": null,
            "bottom": null,
            "display": null,
            "flex": null,
            "flex_flow": null,
            "grid_area": null,
            "grid_auto_columns": null,
            "grid_auto_flow": null,
            "grid_auto_rows": null,
            "grid_column": null,
            "grid_gap": null,
            "grid_row": null,
            "grid_template_areas": null,
            "grid_template_columns": null,
            "grid_template_rows": null,
            "height": null,
            "justify_content": null,
            "justify_items": null,
            "left": null,
            "margin": null,
            "max_height": null,
            "max_width": null,
            "min_height": null,
            "min_width": null,
            "object_fit": null,
            "object_position": null,
            "order": null,
            "overflow": null,
            "overflow_x": null,
            "overflow_y": null,
            "padding": null,
            "right": null,
            "top": null,
            "visibility": null,
            "width": null
          }
        },
        "3d4ee85920e446a3b68eb055eade99eb": {
          "model_module": "@jupyter-widgets/base",
          "model_module_version": "1.2.0",
          "model_name": "LayoutModel",
          "state": {
            "_model_module": "@jupyter-widgets/base",
            "_model_module_version": "1.2.0",
            "_model_name": "LayoutModel",
            "_view_count": null,
            "_view_module": "@jupyter-widgets/base",
            "_view_module_version": "1.2.0",
            "_view_name": "LayoutView",
            "align_content": null,
            "align_items": null,
            "align_self": null,
            "border": null,
            "bottom": null,
            "display": null,
            "flex": null,
            "flex_flow": null,
            "grid_area": null,
            "grid_auto_columns": null,
            "grid_auto_flow": null,
            "grid_auto_rows": null,
            "grid_column": null,
            "grid_gap": null,
            "grid_row": null,
            "grid_template_areas": null,
            "grid_template_columns": null,
            "grid_template_rows": null,
            "height": null,
            "justify_content": null,
            "justify_items": null,
            "left": null,
            "margin": null,
            "max_height": null,
            "max_width": null,
            "min_height": null,
            "min_width": null,
            "object_fit": null,
            "object_position": null,
            "order": null,
            "overflow": null,
            "overflow_x": null,
            "overflow_y": null,
            "padding": null,
            "right": null,
            "top": null,
            "visibility": null,
            "width": null
          }
        },
        "3f24d3f5a1644b64932a782451f6829f": {
          "model_module": "@jupyter-widgets/base",
          "model_module_version": "1.2.0",
          "model_name": "LayoutModel",
          "state": {
            "_model_module": "@jupyter-widgets/base",
            "_model_module_version": "1.2.0",
            "_model_name": "LayoutModel",
            "_view_count": null,
            "_view_module": "@jupyter-widgets/base",
            "_view_module_version": "1.2.0",
            "_view_name": "LayoutView",
            "align_content": null,
            "align_items": null,
            "align_self": null,
            "border": null,
            "bottom": null,
            "display": null,
            "flex": null,
            "flex_flow": null,
            "grid_area": null,
            "grid_auto_columns": null,
            "grid_auto_flow": null,
            "grid_auto_rows": null,
            "grid_column": null,
            "grid_gap": null,
            "grid_row": null,
            "grid_template_areas": null,
            "grid_template_columns": null,
            "grid_template_rows": null,
            "height": null,
            "justify_content": null,
            "justify_items": null,
            "left": null,
            "margin": null,
            "max_height": null,
            "max_width": null,
            "min_height": null,
            "min_width": null,
            "object_fit": null,
            "object_position": null,
            "order": null,
            "overflow": null,
            "overflow_x": null,
            "overflow_y": null,
            "padding": null,
            "right": null,
            "top": null,
            "visibility": null,
            "width": null
          }
        },
        "418cd398021f4bb4b61b87a536308295": {
          "model_module": "@jupyter-widgets/controls",
          "model_module_version": "1.5.0",
          "model_name": "HTMLModel",
          "state": {
            "_dom_classes": [],
            "_model_module": "@jupyter-widgets/controls",
            "_model_module_version": "1.5.0",
            "_model_name": "HTMLModel",
            "_view_count": null,
            "_view_module": "@jupyter-widgets/controls",
            "_view_module_version": "1.5.0",
            "_view_name": "HTMLView",
            "description": "",
            "description_tooltip": null,
            "layout": "IPY_MODEL_6d4bc802123547129175753a3a9216d4",
            "placeholder": "​",
            "style": "IPY_MODEL_0a589286cc8d4155865e245cf65859d1",
            "value": "Progress: 100%"
          }
        },
        "5302f1792cc5442580e160911bde861e": {
          "model_module": "@jupyter-widgets/controls",
          "model_module_version": "1.5.0",
          "model_name": "HBoxModel",
          "state": {
            "_dom_classes": [],
            "_model_module": "@jupyter-widgets/controls",
            "_model_module_version": "1.5.0",
            "_model_name": "HBoxModel",
            "_view_count": null,
            "_view_module": "@jupyter-widgets/controls",
            "_view_module_version": "1.5.0",
            "_view_name": "HBoxView",
            "box_style": "",
            "children": [
              "IPY_MODEL_418cd398021f4bb4b61b87a536308295",
              "IPY_MODEL_f4b6b87a6e1949e1bf7c920c34960262",
              "IPY_MODEL_d561035da5604d2d87cf15435686021e"
            ],
            "layout": "IPY_MODEL_3f24d3f5a1644b64932a782451f6829f"
          }
        },
        "5f028a83f9bb4608b41336d109745882": {
          "model_module": "@jupyter-widgets/base",
          "model_module_version": "1.2.0",
          "model_name": "LayoutModel",
          "state": {
            "_model_module": "@jupyter-widgets/base",
            "_model_module_version": "1.2.0",
            "_model_name": "LayoutModel",
            "_view_count": null,
            "_view_module": "@jupyter-widgets/base",
            "_view_module_version": "1.2.0",
            "_view_name": "LayoutView",
            "align_content": null,
            "align_items": null,
            "align_self": null,
            "border": null,
            "bottom": null,
            "display": null,
            "flex": null,
            "flex_flow": null,
            "grid_area": null,
            "grid_auto_columns": null,
            "grid_auto_flow": null,
            "grid_auto_rows": null,
            "grid_column": null,
            "grid_gap": null,
            "grid_row": null,
            "grid_template_areas": null,
            "grid_template_columns": null,
            "grid_template_rows": null,
            "height": null,
            "justify_content": null,
            "justify_items": null,
            "left": null,
            "margin": null,
            "max_height": null,
            "max_width": null,
            "min_height": null,
            "min_width": null,
            "object_fit": null,
            "object_position": null,
            "order": null,
            "overflow": null,
            "overflow_x": null,
            "overflow_y": null,
            "padding": null,
            "right": null,
            "top": null,
            "visibility": null,
            "width": null
          }
        },
        "6368d69d54284d399d1cac56a0d579b0": {
          "model_module": "@jupyter-widgets/controls",
          "model_module_version": "1.5.0",
          "model_name": "HTMLModel",
          "state": {
            "_dom_classes": [],
            "_model_module": "@jupyter-widgets/controls",
            "_model_module_version": "1.5.0",
            "_model_name": "HTMLModel",
            "_view_count": null,
            "_view_module": "@jupyter-widgets/controls",
            "_view_module_version": "1.5.0",
            "_view_name": "HTMLView",
            "description": "",
            "description_tooltip": null,
            "layout": "IPY_MODEL_8c8dddbc3a714e859dc7611d0f9ee358",
            "placeholder": "​",
            "style": "IPY_MODEL_fbc9606135164724be9a264d03637f51",
            "value": "Progress: 100%"
          }
        },
        "6d4bc802123547129175753a3a9216d4": {
          "model_module": "@jupyter-widgets/base",
          "model_module_version": "1.2.0",
          "model_name": "LayoutModel",
          "state": {
            "_model_module": "@jupyter-widgets/base",
            "_model_module_version": "1.2.0",
            "_model_name": "LayoutModel",
            "_view_count": null,
            "_view_module": "@jupyter-widgets/base",
            "_view_module_version": "1.2.0",
            "_view_name": "LayoutView",
            "align_content": null,
            "align_items": null,
            "align_self": null,
            "border": null,
            "bottom": null,
            "display": null,
            "flex": null,
            "flex_flow": null,
            "grid_area": null,
            "grid_auto_columns": null,
            "grid_auto_flow": null,
            "grid_auto_rows": null,
            "grid_column": null,
            "grid_gap": null,
            "grid_row": null,
            "grid_template_areas": null,
            "grid_template_columns": null,
            "grid_template_rows": null,
            "height": null,
            "justify_content": null,
            "justify_items": null,
            "left": null,
            "margin": null,
            "max_height": null,
            "max_width": null,
            "min_height": null,
            "min_width": null,
            "object_fit": null,
            "object_position": null,
            "order": null,
            "overflow": null,
            "overflow_x": null,
            "overflow_y": null,
            "padding": null,
            "right": null,
            "top": null,
            "visibility": null,
            "width": null
          }
        },
        "8c8dddbc3a714e859dc7611d0f9ee358": {
          "model_module": "@jupyter-widgets/base",
          "model_module_version": "1.2.0",
          "model_name": "LayoutModel",
          "state": {
            "_model_module": "@jupyter-widgets/base",
            "_model_module_version": "1.2.0",
            "_model_name": "LayoutModel",
            "_view_count": null,
            "_view_module": "@jupyter-widgets/base",
            "_view_module_version": "1.2.0",
            "_view_name": "LayoutView",
            "align_content": null,
            "align_items": null,
            "align_self": null,
            "border": null,
            "bottom": null,
            "display": null,
            "flex": null,
            "flex_flow": null,
            "grid_area": null,
            "grid_auto_columns": null,
            "grid_auto_flow": null,
            "grid_auto_rows": null,
            "grid_column": null,
            "grid_gap": null,
            "grid_row": null,
            "grid_template_areas": null,
            "grid_template_columns": null,
            "grid_template_rows": null,
            "height": null,
            "justify_content": null,
            "justify_items": null,
            "left": null,
            "margin": null,
            "max_height": null,
            "max_width": null,
            "min_height": null,
            "min_width": null,
            "object_fit": null,
            "object_position": null,
            "order": null,
            "overflow": null,
            "overflow_x": null,
            "overflow_y": null,
            "padding": null,
            "right": null,
            "top": null,
            "visibility": null,
            "width": null
          }
        },
        "a16fb2d470674db6b48db687db83b280": {
          "model_module": "@jupyter-widgets/controls",
          "model_module_version": "1.5.0",
          "model_name": "DescriptionStyleModel",
          "state": {
            "_model_module": "@jupyter-widgets/controls",
            "_model_module_version": "1.5.0",
            "_model_name": "DescriptionStyleModel",
            "_view_count": null,
            "_view_module": "@jupyter-widgets/base",
            "_view_module_version": "1.2.0",
            "_view_name": "StyleView",
            "description_width": ""
          }
        },
        "b46452b38a564561beda6a44ec2ee409": {
          "model_module": "@jupyter-widgets/base",
          "model_module_version": "1.2.0",
          "model_name": "LayoutModel",
          "state": {
            "_model_module": "@jupyter-widgets/base",
            "_model_module_version": "1.2.0",
            "_model_name": "LayoutModel",
            "_view_count": null,
            "_view_module": "@jupyter-widgets/base",
            "_view_module_version": "1.2.0",
            "_view_name": "LayoutView",
            "align_content": null,
            "align_items": null,
            "align_self": null,
            "border": null,
            "bottom": null,
            "display": null,
            "flex": null,
            "flex_flow": null,
            "grid_area": null,
            "grid_auto_columns": null,
            "grid_auto_flow": null,
            "grid_auto_rows": null,
            "grid_column": null,
            "grid_gap": null,
            "grid_row": null,
            "grid_template_areas": null,
            "grid_template_columns": null,
            "grid_template_rows": null,
            "height": null,
            "justify_content": null,
            "justify_items": null,
            "left": null,
            "margin": null,
            "max_height": null,
            "max_width": null,
            "min_height": null,
            "min_width": null,
            "object_fit": null,
            "object_position": null,
            "order": null,
            "overflow": null,
            "overflow_x": null,
            "overflow_y": null,
            "padding": null,
            "right": null,
            "top": null,
            "visibility": null,
            "width": null
          }
        },
        "bd747c1c369a40c5adf6d79c1c2c5b29": {
          "model_module": "@jupyter-widgets/controls",
          "model_module_version": "1.5.0",
          "model_name": "HBoxModel",
          "state": {
            "_dom_classes": [],
            "_model_module": "@jupyter-widgets/controls",
            "_model_module_version": "1.5.0",
            "_model_name": "HBoxModel",
            "_view_count": null,
            "_view_module": "@jupyter-widgets/controls",
            "_view_module_version": "1.5.0",
            "_view_name": "HBoxView",
            "box_style": "",
            "children": [
              "IPY_MODEL_6368d69d54284d399d1cac56a0d579b0",
              "IPY_MODEL_181b4e1319824c83b87c4f468e61b48a",
              "IPY_MODEL_eca7d6ff99544383b3ddabdfba23f323"
            ],
            "layout": "IPY_MODEL_b46452b38a564561beda6a44ec2ee409"
          }
        },
        "d561035da5604d2d87cf15435686021e": {
          "model_module": "@jupyter-widgets/controls",
          "model_module_version": "1.5.0",
          "model_name": "HTMLModel",
          "state": {
            "_dom_classes": [],
            "_model_module": "@jupyter-widgets/controls",
            "_model_module_version": "1.5.0",
            "_model_name": "HTMLModel",
            "_view_count": null,
            "_view_module": "@jupyter-widgets/controls",
            "_view_module_version": "1.5.0",
            "_view_name": "HTMLView",
            "description": "",
            "description_tooltip": null,
            "layout": "IPY_MODEL_34e0d0f10f474bf3b564788b9599ab46",
            "placeholder": "​",
            "style": "IPY_MODEL_d5cde1650b124f9e8be75d2ccf30f819",
            "value": " 829/829 [04:15&lt;00:00,  3.36it/s]"
          }
        },
        "d5cde1650b124f9e8be75d2ccf30f819": {
          "model_module": "@jupyter-widgets/controls",
          "model_module_version": "1.5.0",
          "model_name": "DescriptionStyleModel",
          "state": {
            "_model_module": "@jupyter-widgets/controls",
            "_model_module_version": "1.5.0",
            "_model_name": "DescriptionStyleModel",
            "_view_count": null,
            "_view_module": "@jupyter-widgets/base",
            "_view_module_version": "1.2.0",
            "_view_name": "StyleView",
            "description_width": ""
          }
        },
        "e530b802919f4193ad62f37ab960c5c2": {
          "model_module": "@jupyter-widgets/controls",
          "model_module_version": "1.5.0",
          "model_name": "ProgressStyleModel",
          "state": {
            "_model_module": "@jupyter-widgets/controls",
            "_model_module_version": "1.5.0",
            "_model_name": "ProgressStyleModel",
            "_view_count": null,
            "_view_module": "@jupyter-widgets/base",
            "_view_module_version": "1.2.0",
            "_view_name": "StyleView",
            "bar_color": null,
            "description_width": ""
          }
        },
        "eca7d6ff99544383b3ddabdfba23f323": {
          "model_module": "@jupyter-widgets/controls",
          "model_module_version": "1.5.0",
          "model_name": "HTMLModel",
          "state": {
            "_dom_classes": [],
            "_model_module": "@jupyter-widgets/controls",
            "_model_module_version": "1.5.0",
            "_model_name": "HTMLModel",
            "_view_count": null,
            "_view_module": "@jupyter-widgets/controls",
            "_view_module_version": "1.5.0",
            "_view_name": "HTMLView",
            "description": "",
            "description_tooltip": null,
            "layout": "IPY_MODEL_f8f9b02db48249ab9d6d5274f8aae957",
            "placeholder": "​",
            "style": "IPY_MODEL_a16fb2d470674db6b48db687db83b280",
            "value": " 7446/7446 [38:30&lt;00:00,  3.70it/s]"
          }
        },
        "f4a090cef880400bbcc42743b3f2f70c": {
          "model_module": "@jupyter-widgets/controls",
          "model_module_version": "1.5.0",
          "model_name": "ProgressStyleModel",
          "state": {
            "_model_module": "@jupyter-widgets/controls",
            "_model_module_version": "1.5.0",
            "_model_name": "ProgressStyleModel",
            "_view_count": null,
            "_view_module": "@jupyter-widgets/base",
            "_view_module_version": "1.2.0",
            "_view_name": "StyleView",
            "bar_color": null,
            "description_width": ""
          }
        },
        "f4b6b87a6e1949e1bf7c920c34960262": {
          "model_module": "@jupyter-widgets/controls",
          "model_module_version": "1.5.0",
          "model_name": "FloatProgressModel",
          "state": {
            "_dom_classes": [],
            "_model_module": "@jupyter-widgets/controls",
            "_model_module_version": "1.5.0",
            "_model_name": "FloatProgressModel",
            "_view_count": null,
            "_view_module": "@jupyter-widgets/controls",
            "_view_module_version": "1.5.0",
            "_view_name": "ProgressView",
            "bar_style": "success",
            "description": "",
            "description_tooltip": null,
            "layout": "IPY_MODEL_3d4ee85920e446a3b68eb055eade99eb",
            "max": 829,
            "min": 0,
            "orientation": "horizontal",
            "style": "IPY_MODEL_e530b802919f4193ad62f37ab960c5c2",
            "value": 829
          }
        },
        "f8f9b02db48249ab9d6d5274f8aae957": {
          "model_module": "@jupyter-widgets/base",
          "model_module_version": "1.2.0",
          "model_name": "LayoutModel",
          "state": {
            "_model_module": "@jupyter-widgets/base",
            "_model_module_version": "1.2.0",
            "_model_name": "LayoutModel",
            "_view_count": null,
            "_view_module": "@jupyter-widgets/base",
            "_view_module_version": "1.2.0",
            "_view_name": "LayoutView",
            "align_content": null,
            "align_items": null,
            "align_self": null,
            "border": null,
            "bottom": null,
            "display": null,
            "flex": null,
            "flex_flow": null,
            "grid_area": null,
            "grid_auto_columns": null,
            "grid_auto_flow": null,
            "grid_auto_rows": null,
            "grid_column": null,
            "grid_gap": null,
            "grid_row": null,
            "grid_template_areas": null,
            "grid_template_columns": null,
            "grid_template_rows": null,
            "height": null,
            "justify_content": null,
            "justify_items": null,
            "left": null,
            "margin": null,
            "max_height": null,
            "max_width": null,
            "min_height": null,
            "min_width": null,
            "object_fit": null,
            "object_position": null,
            "order": null,
            "overflow": null,
            "overflow_x": null,
            "overflow_y": null,
            "padding": null,
            "right": null,
            "top": null,
            "visibility": null,
            "width": null
          }
        },
        "fbc9606135164724be9a264d03637f51": {
          "model_module": "@jupyter-widgets/controls",
          "model_module_version": "1.5.0",
          "model_name": "DescriptionStyleModel",
          "state": {
            "_model_module": "@jupyter-widgets/controls",
            "_model_module_version": "1.5.0",
            "_model_name": "DescriptionStyleModel",
            "_view_count": null,
            "_view_module": "@jupyter-widgets/base",
            "_view_module_version": "1.2.0",
            "_view_name": "StyleView",
            "description_width": ""
          }
        }
      }
    }
  },
  "nbformat": 4,
  "nbformat_minor": 0
}
